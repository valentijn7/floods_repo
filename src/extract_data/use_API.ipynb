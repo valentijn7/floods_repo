{
 "cells": [
  {
   "cell_type": "markdown",
   "metadata": {},
   "source": [
    "# **Extract data through Google API**"
   ]
  },
  {
   "cell_type": "code",
   "execution_count": 80,
   "metadata": {},
   "outputs": [],
   "source": [
    "import json\n",
    "from typing import List, Dict, Any, Tuple\n",
    "import pandas as pd\n",
    "import geopandas as gpd\n",
    "import requests\n",
    "import datetime\n",
    "import matplotlib.pyplot as plt"
   ]
  },
  {
   "cell_type": "markdown",
   "metadata": {},
   "source": [
    "##### **Steps**:\n",
    "To get the data from the Google Bucket into workable format, we follow:\n",
    "* Connect with the API\n",
    "* **Expand this step!** Set-up pipeline which downloads all relevant data per country code\n",
    "* Format the data into DateTime (y) and features (x)\n",
    "* Store externally as .csv\n",
    "\n",
    "##### **Background info -- API**\n",
    "The API has three basic functions:\n",
    "* *ListGauges*: Returns a list of supported gauges within a given country (code)\n",
    "* *GetGaugeModel*: Returns model information of a specific gauge (within a given country, that is)\n",
    "* *QueryGaugeForecasts*: Returns the forecasts of specific gauge"
   ]
  },
  {
   "cell_type": "code",
   "execution_count": 81,
   "metadata": {},
   "outputs": [],
   "source": [
    "def get_API_key(path : str) -> str:\n",
    "    \"\"\"\n",
    "    Get the API key from a .txt file stored elsewhere\n",
    "\n",
    "    :param path: path to the .txt file containing the API key\n",
    "    :return: the API key\n",
    "    \"\"\"\n",
    "    with open(path, 'r') as f:\n",
    "        return f.read().strip()\n",
    "\n",
    "# Note: add this folder manually at the pointed path for the script to run\n",
    "# For the key, ask the owner of the repository or try brute force :)\n",
    "path_API_key = '../../data/keys/API_key.txt'"
   ]
  },
  {
   "cell_type": "code",
   "execution_count": 82,
   "metadata": {},
   "outputs": [],
   "source": [
    "def get_country_codes(path : str) -> Dict:\n",
    "    \"\"\"\n",
    "    Get the country codes from a .json file stored elsewhere\n",
    "\n",
    "    :param path: path to the .json file containing the country codes\n",
    "    :return: the country codes\n",
    "    \"\"\"\n",
    "    with open(path, 'r') as f:\n",
    "        return json.load(f)\n",
    "\n",
    "\n",
    "path_country_codes = '../../data/country_codes.json'\n",
    "dict_country_codes = get_country_codes(path_country_codes)"
   ]
  },
  {
   "cell_type": "code",
   "execution_count": 83,
   "metadata": {},
   "outputs": [],
   "source": [
    "def generate_url_ListGauges(path_to_key : str) -> str:\n",
    "    \"\"\"\n",
    "    Generate the URL to get the list of gauges for a specific country\n",
    "\n",
    "    :param path_to_key: path to the .txt file containing the API key\n",
    "    :return: the URL\n",
    "    \"\"\"\n",
    "    base_url = 'https://floodforecasting.googleapis.com/v1/gauges:searchGaugesByArea'\n",
    "    return f'{base_url}?key={get_API_key(path_to_key)}'"
   ]
  },
  {
   "cell_type": "code",
   "execution_count": 91,
   "metadata": {},
   "outputs": [],
   "source": [
    "def make_request_ListGauges(country_code : str, path_to_key : str) -> List[Dict[str, Any]]:\n",
    "    \"\"\"\n",
    "    Make the API request for the list of gauges for a specific country\n",
    "\n",
    "    :param url: the URL\n",
    "    :return: the list of gauges\n",
    "    \"\"\"\n",
    "    response = requests.post(\n",
    "        generate_url_ListGauges(path_to_key),\n",
    "        json = {'regionCode': country_code}\n",
    "    )\n",
    "\n",
    "    if response.status_code != 200:\n",
    "        raise Exception(f'Error: {response.status_code} -- {response.text}')\n",
    "    \n",
    "    return response\n",
    "\n",
    "\n",
    "def get_ListGauges(country_code : str, path_to_key : str) -> List[Dict[str, Any]]:\n",
    "    \"\"\"\n",
    "    Get the list of gauges for a specific country, and verify the response\n",
    "\n",
    "    :param country_code: the country code\n",
    "    :param path_to_key: path to the .txt file containing the API key\n",
    "    :return: the list of gauges\n",
    "    \"\"\"\n",
    "    response = make_request_ListGauges(country_code, path_to_key)\n",
    "    try:\n",
    "        return response.json()['gauges']\n",
    "    except ValueError as exc:\n",
    "        raise Exception(f'Error parsing .json: {exc} -- {response.text}')"
   ]
  },
  {
   "cell_type": "code",
   "execution_count": 104,
   "metadata": {},
   "outputs": [],
   "source": [
    "def print_gauges(gauges : List[Dict[str, Any]]) -> None:\n",
    "    \"\"\"\n",
    "    Print the list of gauges\n",
    "\n",
    "    :param gauges: the list of gauges\n",
    "    \"\"\"\n",
    "    for gauge in gauges:\n",
    "        print(f\"{gauge['siteName']} ({gauge['gaugeId']})\")"
   ]
  },
  {
   "cell_type": "code",
   "execution_count": 97,
   "metadata": {},
   "outputs": [],
   "source": [
    "list_gauges = get_ListGauges('ML', path_API_key)"
   ]
  },
  {
   "cell_type": "code",
   "execution_count": 100,
   "metadata": {},
   "outputs": [
    {
     "name": "stdout",
     "output_type": "stream",
     "text": [
      "<class 'list'>\n",
      "16\n",
      "[{'location': {'latitude': 11.22291666666553, 'longitude': -8.485416666669321}, 'siteName': '', 'source': 'HYBAS', 'river': 'Sankarani', 'gaugeId': 'hybas_1120766460', 'qualityVerified': True}, {'location': {'latitude': 11.427083333332233, 'longitude': -6.581250000002682}, 'siteName': '', 'source': 'HYBAS', 'river': '', 'gaugeId': 'hybas_1120758950', 'qualityVerified': True}, {'location': {'latitude': 12.018749999998988, 'longitude': -8.322916666669414}, 'siteName': '', 'source': 'HYBAS', 'river': '', 'gaugeId': 'hybas_1120737100', 'qualityVerified': True}, {'location': {'latitude': 13.493749999998954, 'longitude': -6.202083333336134}, 'siteName': '', 'source': 'HYBAS', 'river': '', 'gaugeId': 'hybas_1120679780', 'qualityVerified': True}, {'location': {'latitude': 12.410416666665697, 'longitude': -8.106250000002774}, 'siteName': '', 'source': 'HYBAS', 'river': 'Niger', 'gaugeId': 'hybas_1121919510', 'qualityVerified': True}, {'location': {'latitude': 13.360416666665628, 'longitude': -6.789583333336111}, 'siteName': '', 'source': 'HYBAS', 'river': '', 'gaugeId': 'hybas_1121905290', 'qualityVerified': True}, {'location': {'latitude': 13.210416666665594, 'longitude': -7.07708333333602}, 'siteName': '', 'source': 'HYBAS', 'river': '', 'gaugeId': 'hybas_1120689830', 'qualityVerified': True}, {'location': {'latitude': 13.68541666666556, 'longitude': -5.893750000002797}, 'siteName': '', 'source': 'HYBAS', 'river': '', 'gaugeId': 'hybas_1121900350', 'qualityVerified': True}, {'location': {'latitude': 14.506249999999, 'longitude': -4.206250000002797}, 'siteName': '', 'source': 'HYBAS', 'river': '', 'gaugeId': 'hybas_1120641660', 'qualityVerified': True}, {'location': {'latitude': 14.277083333332143, 'longitude': -6.9270833333361}, 'siteName': '', 'source': 'HYBAS', 'river': '', 'gaugeId': 'hybas_1120650110', 'qualityVerified': True}, {'location': {'latitude': 14.314583333332337, 'longitude': -4.422916666669437}, 'siteName': '', 'source': 'HYBAS', 'river': '', 'gaugeId': 'hybas_1121890140', 'qualityVerified': True}, {'location': {'latitude': 14.131249999998944, 'longitude': -5.039583333336168}, 'siteName': '', 'source': 'HYBAS', 'river': '', 'gaugeId': 'hybas_1121893090', 'qualityVerified': True}, {'location': {'latitude': 11.977083333332189, 'longitude': -6.360416666669494}, 'siteName': '', 'source': 'HYBAS', 'river': '', 'gaugeId': 'hybas_1120739110', 'qualityVerified': True}, {'location': {'latitude': 12.835416666665594, 'longitude': -7.58125000000274}, 'siteName': '', 'source': 'HYBAS', 'river': '', 'gaugeId': 'hybas_1120705070', 'qualityVerified': True}, {'location': {'latitude': 13.956249999998818, 'longitude': -5.360416666669494}, 'siteName': '', 'source': 'HYBAS', 'river': '', 'gaugeId': 'hybas_1121895840', 'qualityVerified': True}, {'location': {'latitude': 13.985416666665571, 'longitude': -7.1520833333361225}, 'siteName': '', 'source': 'HYBAS', 'river': '', 'gaugeId': 'hybas_1120661040', 'qualityVerified': True}]\n"
     ]
    }
   ],
   "source": [
    "print(type(list_gauges))\n",
    "print(len(list_gauges))\n",
    "print(list_gauges)"
   ]
  }
 ],
 "metadata": {
  "kernelspec": {
   "display_name": "Python 3",
   "language": "python",
   "name": "python3"
  },
  "language_info": {
   "codemirror_mode": {
    "name": "ipython",
    "version": 3
   },
   "file_extension": ".py",
   "mimetype": "text/x-python",
   "name": "python",
   "nbconvert_exporter": "python",
   "pygments_lexer": "ipython3",
   "version": "3.9.13"
  }
 },
 "nbformat": 4,
 "nbformat_minor": 2
}
