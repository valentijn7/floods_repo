{
 "cells": [
  {
   "cell_type": "markdown",
   "metadata": {},
   "source": [
    "# **Extract data through Google API**"
   ]
  },
  {
   "cell_type": "code",
   "execution_count": 1,
   "metadata": {},
   "outputs": [],
   "source": [
    "from extract_data.call_ListGauges import get_ListGauges"
   ]
  },
  {
   "cell_type": "code",
   "execution_count": 2,
   "metadata": {},
   "outputs": [],
   "source": [
    "import os\n",
    "from typing import List, Dict, Any\n",
    "import json\n",
    "import pandas as pd\n",
    "import geopandas as gpd\n",
    "import requests\n",
    "import pprint\n",
    "import datetime\n",
    "import matplotlib.pyplot as plt"
   ]
  },
  {
   "cell_type": "markdown",
   "metadata": {},
   "source": [
    "##### **Steps**:\n",
    "To get the data from the Google Bucket into workable format, we follow:\n",
    "* Connect with the API\n",
    "* **Expand this step!** Set-up pipeline which downloads all relevant data per country code\n",
    "* Format the data into DateTime (y) and features (x)\n",
    "* Store externally as .csv\n",
    "\n",
    "##### **Background info -- API**\n",
    "The API has three basic functions:\n",
    "* *ListGauges*: Returns a list of supported gauges within a given country (code)\n",
    "* *GetGaugeModel*: Returns model information of a specific gauge (within a given country, that is)\n",
    "* *QueryGaugeForecasts*: Returns the forecasts of specific gauge\n",
    "\n",
    "We'll create a pipeline going through these three functions, taking as input just the target country and outputting a DateTime-indexed .csv with all available forecasts for that country's available gauges. \n",
    "\n",
    "##### **(??? -> Maybe this is too much... A format which uses a list of matrices (an implicit tensor) where the matrices are just one gauge might be better. Either way, the metadata is best stored separately in a separate .csv. Choose adequate naming here.)**\n",
    "\n",
    "For subsequent analysis, see ../analyse_data/"
   ]
  },
  {
   "cell_type": "code",
   "execution_count": 4,
   "metadata": {},
   "outputs": [],
   "source": [
    "def get_country_codes(path : str) -> Dict:\n",
    "    \"\"\"\n",
    "    Get the country codes from a .json file stored elsewhere\n",
    "\n",
    "    :param path: path to the .json file containing the country codes\n",
    "    :return: the country codes\n",
    "    \"\"\"\n",
    "    with open(path, 'r') as f:\n",
    "        return json.load(f)\n",
    "\n",
    "\n",
    "path_country_codes = \"../../data/country_codes.json\"\n",
    "dict_country_codes = get_country_codes(path_country_codes)"
   ]
  },
  {
   "cell_type": "code",
   "execution_count": 5,
   "metadata": {},
   "outputs": [],
   "source": [
    "# Note: add this folder manually at the pointed path for the script to run\n",
    "# For the key, ask the owner of the repository or try guessing\n",
    "path_API_key = \"../../data/keys/API_key.txt\""
   ]
  },
  {
   "cell_type": "code",
   "execution_count": 8,
   "metadata": {},
   "outputs": [],
   "source": [
    "df_gauges_ML = get_ListGauges('ML', path_API_key)"
   ]
  },
  {
   "cell_type": "code",
   "execution_count": 9,
   "metadata": {},
   "outputs": [
    {
     "name": "stdout",
     "output_type": "stream",
     "text": [
      "<class 'pandas.core.frame.DataFrame'>\n",
      "16\n",
      "Index(['siteName', 'source', 'river', 'gaugeId', 'qualityVerified', 'latitude',\n",
      "       'longitude'],\n",
      "      dtype='object')\n"
     ]
    }
   ],
   "source": [
    "print(type(df_gauges_ML))\n",
    "print(len(df_gauges_ML))\n",
    "print(df_gauges_ML.columns)\n"
   ]
  },
  {
   "cell_type": "code",
   "execution_count": 10,
   "metadata": {},
   "outputs": [
    {
     "name": "stdout",
     "output_type": "stream",
     "text": [
      "  siteName source river           gaugeId  qualityVerified   latitude  \\\n",
      "0           HYBAS        hybas_1121890140             True  14.314583   \n",
      "1           HYBAS        hybas_1120737100             True  12.018750   \n",
      "\n",
      "   longitude  \n",
      "0  -4.422917  \n",
      "1  -8.322917  \n"
     ]
    }
   ],
   "source": [
    "print(df_gauges_ML.head(2))"
   ]
  },
  {
   "cell_type": "code",
   "execution_count": 11,
   "metadata": {},
   "outputs": [],
   "source": [
    "def convert_df_to_gdf(df : pd.DataFrame) -> gpd.GeoDataFrame:\n",
    "    \"\"\"\n",
    "    Convert a DataFrame to a GeoDataFrame by taking the latitude and longitude columns\n",
    "\n",
    "    :param df: the DataFrame\n",
    "    :return: the GeoDataFrame\n",
    "    \"\"\"\n",
    "    return gpd.GeoDataFrame(\n",
    "        df,\n",
    "        geometry = gpd.points_from_xy(df['longitude'], df['latitude']),\n",
    "        crs = 'EPSG:4326' # Uniform projection to WGS84\n",
    "    )\n",
    "\n",
    "\n",
    "def map_gauge_coordinates_of_country(df : pd.DataFrame, country : str) -> None:\n",
    "    \"\"\"\n",
    "    Map gauge coordinates\n",
    "\n",
    "    :param df: the DataFrame with the gauges\n",
    "    :return: the GeoDataFrame\n",
    "    \"\"\"\n",
    "    gdf = convert_df_to_gdf(df)\n",
    "\n",
    "    # try:\n",
    "    #     shape = gpd.read_file(f\"../../data/shape_files/{country}_country_bounds.shp\")\n",
    "    # except Exception as exc:\n",
    "    #     raise Exception(f'Error reading shape file: {exc}')\n",
    "\n",
    "    fig, ax = plt.subplots()\n",
    "    # shape.plot(ax = ax, color = 'lightgrey')\n",
    "    gdf.plot(ax = ax, color = 'red', markersize = 10)\n",
    "    ax.set_xlabel('Longitude')\n",
    "    ax.set_ylabel('Latitude')\n",
    "    ax.set_title(f'Gauge locations for {country}')\n",
    "    ax.set_aspect('equal') # Ensure unwarped aspect ratio\n",
    "    plt.show()"
   ]
  },
  {
   "cell_type": "code",
   "execution_count": 12,
   "metadata": {},
   "outputs": [
    {
     "data": {
      "image/png": "[encoded data removed]",
      "text/plain": [
       "<Figure size 640x480 with 1 Axes>"
      ]
     },
     "metadata": {},
     "output_type": "display_data"
    }
   ],
   "source": [
    "map_gauge_coordinates_of_country(df_gauges_ML, 'Mali')"
   ]
  },
  {
   "cell_type": "code",
   "execution_count": 13,
   "metadata": {},
   "outputs": [
    {
     "data": {
      "image/png": "[encoded data removed]",
      "text/plain": [
       "<Figure size 640x480 with 1 Axes>"
      ]
     },
     "metadata": {},
     "output_type": "display_data"
    }
   ],
   "source": [
    "map_gauge_coordinates_of_country(get_ListGauges('IN', path_API_key), 'India')"
   ]
  },
  {
   "cell_type": "code",
   "execution_count": null,
   "metadata": {},
   "outputs": [],
   "source": [
    "from typing import List, Dict, Any\n",
    "import requests\n",
    "import pandas as pd\n",
    "\n",
    "from get_key import get_API_key\n",
    "\n",
    "\n",
    "def generate_url_GetGaugeModel(path_to_key : str) -> str:\n",
    "    \"\"\"\n",
    "    Generate the URL to get the gauge model for a specific gauge\n",
    "\n",
    "    :param path_to_key: path to the API key\n",
    "    :return: the URL\n",
    "    \"\"\"\n",
    "   \n",
    "    # NEXT STEP: Kijk in voorbeeld Colab hoe ze het doen want de .pdf instructie klopt niet"
   ]
  }
 ],
 "metadata": {
  "kernelspec": {
   "display_name": "Python 3",
   "language": "python",
   "name": "python3"
  },
  "language_info": {
   "codemirror_mode": {
    "name": "ipython",
    "version": 3
   },
   "file_extension": ".py",
   "mimetype": "text/x-python",
   "name": "python",
   "nbconvert_exporter": "python",
   "pygments_lexer": "ipython3",
   "version": "3.9.13"
  }
 },
 "nbformat": 4,
 "nbformat_minor": 2
}
