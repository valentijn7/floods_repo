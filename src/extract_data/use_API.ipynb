{
 "cells": [
  {
   "cell_type": "markdown",
   "metadata": {},
   "source": [
    "# **Extract data through Google API**"
   ]
  },
  {
   "cell_type": "code",
   "execution_count": 35,
   "metadata": {},
   "outputs": [],
   "source": [
    "import json\n",
    "from typing import List, Dict, Any, Tuple\n",
    "import pandas as pd\n",
    "import geopandas as gpd\n",
    "import requests\n",
    "import datetime\n",
    "import matplotlib.pyplot as plt"
   ]
  },
  {
   "cell_type": "markdown",
   "metadata": {},
   "source": [
    "##### **Steps**:\n",
    "To get the data from the Google Bucket into workable format, we follow:\n",
    "* Connect with the API\n",
    "* **Expand this step!** Set-up pipeline which downloads all relevant data per country code\n",
    "* Format the data into DateTime (y) and features (x)\n",
    "* Store externally as .csv\n",
    "\n",
    "##### **Background info -- API**\n",
    "The API has three basic functions:\n",
    "* *ListGauges*: Returns a list of supported gauges within a given country (code)\n",
    "* *GetGaugeModel*: Returns model information of a specific gauge (within a given country, that is)\n",
    "* *QueryGaugeForecasts*: Returns the forecasts of specific gauge"
   ]
  },
  {
   "cell_type": "code",
   "execution_count": 36,
   "metadata": {},
   "outputs": [],
   "source": [
    "def get_API_key(path : str) -> str:\n",
    "    \"\"\"\n",
    "    Get the API key from a .txt file stored elsewhere\n",
    "\n",
    "    :param path: path to the .txt file containing the API key\n",
    "    :return: the API key\n",
    "    \"\"\"\n",
    "    with open(path, 'r') as f:\n",
    "        return f.read().strip()\n",
    "\n",
    "# Note: add this folder manually at the pointed path for the script to run\n",
    "# For the key, ask the owner of the repository or try brute force :)\n",
    "path_API_key = '../../data/keys/API_key.txt'"
   ]
  },
  {
   "cell_type": "code",
   "execution_count": 37,
   "metadata": {},
   "outputs": [],
   "source": [
    "def get_country_codes(path : str) -> Dict:\n",
    "    \"\"\"\n",
    "    Get the country codes from a .json file stored elsewhere\n",
    "\n",
    "    :param path: path to the .json file containing the country codes\n",
    "    :return: the country codes\n",
    "    \"\"\"\n",
    "    with open(path, 'r') as f:\n",
    "        return json.load(f)\n",
    "\n",
    "\n",
    "path_country_codes = '../../data/country_codes.json'\n",
    "dict_country_codes = get_country_codes(path_country_codes)"
   ]
  },
  {
   "cell_type": "code",
   "execution_count": 38,
   "metadata": {},
   "outputs": [],
   "source": [
    "def generate_url_ListGauges(country_code : str, path_to_key : str) -> str:\n",
    "    \"\"\"\n",
    "    Generate the URL to get the list of gauges for a specific country\n",
    "\n",
    "    :param country_code: the country code\n",
    "    :param path_to_key: path to the .txt file containing the API key\n",
    "    :return: the URL\n",
    "    \"\"\"\n",
    "\n",
    "    # URL from the Colab\n",
    "    base_url = 'https://floodforecasting.googleapis.com/v1/gauges:searchGaugesByArea'\n",
    "    return f'{base_url}?key={get_API_key(path_to_key)}'\n",
    "\n",
    "    # base_url = 'https://floodforecasting.googleapis.com/v1/gauges'\n",
    "    # return f'{base_url}?filter=region_code={country_code}&key={get_API_key(path_to_key)}'\n",
    "\n",
    "\n",
    "def get_ListGauges(country_code : str, path_to_key : str) -> List[Dict[str, Any]]:\n",
    "    \"\"\"\n",
    "    Get the list of gauges for a specific country\n",
    "\n",
    "    :param url: the URL\n",
    "    :return: the list of gauges\n",
    "    \"\"\"\n",
    "    url = generate_url_ListGauges(country_code, path_to_key)\n",
    "    response = requests.post(url, json = {'regionCode': country_code})\n",
    "\n",
    "    if response.status_code != 200:\n",
    "        raise Exception(f'Error: {response.status_code} -- {response.text}')\n",
    "    \n",
    "    try:\n",
    "        return response.json()['gauges']\n",
    "    except ValueError as exc:\n",
    "        raise Exception(f'Error parsing .json: {exc} -- {response.text}')"
   ]
  },
  {
   "cell_type": "code",
   "execution_count": 39,
   "metadata": {},
   "outputs": [
    {
     "name": "stdout",
     "output_type": "stream",
     "text": [
      "https://floodforecasting.googleapis.com/v1/gauges:searchGaugesByArea?key=AIzaSyAGeDCPtAeSdZ4V_Yyo1ya2S66YlOqbqI\n"
     ]
    }
   ],
   "source": [
    "print(generate_url_ListGauges('ML', path_API_key))"
   ]
  },
  {
   "cell_type": "code",
   "execution_count": 40,
   "metadata": {},
   "outputs": [
    {
     "ename": "Exception",
     "evalue": "Error: 400 -- {\n  \"error\": {\n    \"code\": 400,\n    \"message\": \"API key not valid. Please pass a valid API key.\",\n    \"status\": \"INVALID_ARGUMENT\",\n    \"details\": [\n      {\n        \"@type\": \"type.googleapis.com/google.rpc.ErrorInfo\",\n        \"reason\": \"API_KEY_INVALID\",\n        \"domain\": \"googleapis.com\",\n        \"metadata\": {\n          \"service\": \"floodforecasting.googleapis.com\"\n        }\n      }\n    ]\n  }\n}\n",
     "output_type": "error",
     "traceback": [
      "\u001b[1;31m---------------------------------------------------------------------------\u001b[0m",
      "\u001b[1;31mException\u001b[0m                                 Traceback (most recent call last)",
      "Cell \u001b[1;32mIn[40], line 1\u001b[0m\n\u001b[1;32m----> 1\u001b[0m list_gauges \u001b[38;5;241m=\u001b[39m \u001b[43mget_ListGauges\u001b[49m\u001b[43m(\u001b[49m\u001b[38;5;124;43m'\u001b[39;49m\u001b[38;5;124;43mML\u001b[39;49m\u001b[38;5;124;43m'\u001b[39;49m\u001b[43m,\u001b[49m\u001b[43m \u001b[49m\u001b[43mpath_API_key\u001b[49m\u001b[43m)\u001b[49m\n",
      "Cell \u001b[1;32mIn[38], line 29\u001b[0m, in \u001b[0;36mget_ListGauges\u001b[1;34m(country_code, path_to_key)\u001b[0m\n\u001b[0;32m     26\u001b[0m response \u001b[38;5;241m=\u001b[39m requests\u001b[38;5;241m.\u001b[39mpost(url, json \u001b[38;5;241m=\u001b[39m {\u001b[38;5;124m'\u001b[39m\u001b[38;5;124mregionCode\u001b[39m\u001b[38;5;124m'\u001b[39m: country_code})\n\u001b[0;32m     28\u001b[0m \u001b[38;5;28;01mif\u001b[39;00m response\u001b[38;5;241m.\u001b[39mstatus_code \u001b[38;5;241m!=\u001b[39m \u001b[38;5;241m200\u001b[39m:\n\u001b[1;32m---> 29\u001b[0m     \u001b[38;5;28;01mraise\u001b[39;00m \u001b[38;5;167;01mException\u001b[39;00m(\u001b[38;5;124mf\u001b[39m\u001b[38;5;124m'\u001b[39m\u001b[38;5;124mError: \u001b[39m\u001b[38;5;132;01m{\u001b[39;00mresponse\u001b[38;5;241m.\u001b[39mstatus_code\u001b[38;5;132;01m}\u001b[39;00m\u001b[38;5;124m -- \u001b[39m\u001b[38;5;132;01m{\u001b[39;00mresponse\u001b[38;5;241m.\u001b[39mtext\u001b[38;5;132;01m}\u001b[39;00m\u001b[38;5;124m'\u001b[39m)\n\u001b[0;32m     31\u001b[0m \u001b[38;5;28;01mtry\u001b[39;00m:\n\u001b[0;32m     32\u001b[0m     \u001b[38;5;28;01mreturn\u001b[39;00m response\u001b[38;5;241m.\u001b[39mjson()[\u001b[38;5;124m'\u001b[39m\u001b[38;5;124mgauges\u001b[39m\u001b[38;5;124m'\u001b[39m]\n",
      "\u001b[1;31mException\u001b[0m: Error: 400 -- {\n  \"error\": {\n    \"code\": 400,\n    \"message\": \"API key not valid. Please pass a valid API key.\",\n    \"status\": \"INVALID_ARGUMENT\",\n    \"details\": [\n      {\n        \"@type\": \"type.googleapis.com/google.rpc.ErrorInfo\",\n        \"reason\": \"API_KEY_INVALID\",\n        \"domain\": \"googleapis.com\",\n        \"metadata\": {\n          \"service\": \"floodforecasting.googleapis.com\"\n        }\n      }\n    ]\n  }\n}\n"
     ]
    }
   ],
   "source": [
    "list_gauges = get_ListGauges('ML', path_API_key)"
   ]
  }
 ],
 "metadata": {
  "kernelspec": {
   "display_name": "Python 3",
   "language": "python",
   "name": "python3"
  },
  "language_info": {
   "codemirror_mode": {
    "name": "ipython",
    "version": 3
   },
   "file_extension": ".py",
   "mimetype": "text/x-python",
   "name": "python",
   "nbconvert_exporter": "python",
   "pygments_lexer": "ipython3",
   "version": "3.9.13"
  }
 },
 "nbformat": 4,
 "nbformat_minor": 2
}
