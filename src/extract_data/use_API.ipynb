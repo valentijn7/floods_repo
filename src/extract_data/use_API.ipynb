{
 "cells": [
  {
   "cell_type": "markdown",
   "metadata": {},
   "source": [
    "# **Extract data through Google API**"
   ]
  },
  {
   "cell_type": "code",
   "execution_count": 136,
   "metadata": {},
   "outputs": [],
   "source": [
    "import os\n",
    "from typing import List, Dict, Any, Tuple\n",
    "import json\n",
    "import pandas as pd\n",
    "import geopandas as gpd\n",
    "import requests\n",
    "import pprint\n",
    "import datetime\n",
    "import matplotlib.pyplot as plt"
   ]
  },
  {
   "cell_type": "markdown",
   "metadata": {},
   "source": [
    "##### **Steps**:\n",
    "To get the data from the Google Bucket into workable format, we follow:\n",
    "* Connect with the API\n",
    "* **Expand this step!** Set-up pipeline which downloads all relevant data per country code\n",
    "* Format the data into DateTime (y) and features (x)\n",
    "* Store externally as .csv\n",
    "\n",
    "##### **Background info -- API**\n",
    "The API has three basic functions:\n",
    "* *ListGauges*: Returns a list of supported gauges within a given country (code)\n",
    "* *GetGaugeModel*: Returns model information of a specific gauge (within a given country, that is)\n",
    "* *QueryGaugeForecasts*: Returns the forecasts of specific gauge"
   ]
  },
  {
   "cell_type": "code",
   "execution_count": 137,
   "metadata": {},
   "outputs": [],
   "source": [
    "def get_API_key(path : str) -> str:\n",
    "    \"\"\"\n",
    "    Get the API key from a .txt file stored elsewhere\n",
    "\n",
    "    :param path: path to the .txt file containing the API key\n",
    "    :return: the API key\n",
    "    \"\"\"\n",
    "    with open(path, 'r') as f:\n",
    "        return f.read().strip()\n",
    "\n",
    "# Note: add this folder manually at the pointed path for the script to run\n",
    "# For the key, ask the owner of the repository or try brute force :)\n",
    "path_API_key = \"../../data/keys/API_key.txt\""
   ]
  },
  {
   "cell_type": "code",
   "execution_count": 138,
   "metadata": {},
   "outputs": [],
   "source": [
    "def get_country_codes(path : str) -> Dict:\n",
    "    \"\"\"\n",
    "    Get the country codes from a .json file stored elsewhere\n",
    "\n",
    "    :param path: path to the .json file containing the country codes\n",
    "    :return: the country codes\n",
    "    \"\"\"\n",
    "    with open(path, 'r') as f:\n",
    "        return json.load(f)\n",
    "\n",
    "\n",
    "path_country_codes = \"../../data/country_codes.json\"\n",
    "dict_country_codes = get_country_codes(path_country_codes)"
   ]
  },
  {
   "cell_type": "code",
   "execution_count": 139,
   "metadata": {},
   "outputs": [],
   "source": [
    "def generate_url_ListGauges(path_to_key : str) -> str:\n",
    "    \"\"\"\n",
    "    Generate the URL to get the list of gauges for a specific country\n",
    "\n",
    "    :param path_to_key: path to the .txt file containing the API key\n",
    "    :return: the URL\n",
    "    \"\"\"\n",
    "    base_url = 'https://floodforecasting.googleapis.com/v1/gauges:searchGaugesByArea'\n",
    "    return f'{base_url}?key={get_API_key(path_to_key)}'"
   ]
  },
  {
   "cell_type": "code",
   "execution_count": 140,
   "metadata": {},
   "outputs": [],
   "source": [
    "def make_request_ListGauges(country_code : str, path_to_key : str) -> List[Dict[str, Any]]:\n",
    "    \"\"\"\n",
    "    Make the API request for the list of gauges for a specific country\n",
    "\n",
    "    :param url: the URL\n",
    "    :return: the list of gauges\n",
    "    \"\"\"\n",
    "    response = requests.post(\n",
    "        generate_url_ListGauges(path_to_key),\n",
    "        json = {'regionCode': country_code}\n",
    "    )\n",
    "    \n",
    "    return response\n",
    "\n",
    "\n",
    "def verify_ListGauges(response : Any) -> List[Dict[str, Any]]:\n",
    "    \"\"\"\n",
    "    Get the list of gauges for a specific country, and verify the response\n",
    "\n",
    "    :param country_code: the country code\n",
    "    :param path_to_key: path to the .txt file containing the API key\n",
    "    :return: the list of gauges\n",
    "    \"\"\"\n",
    "    if response.status_code != 200:\n",
    "        raise Exception(f'Error: {response.status_code} -- {response.text}')\n",
    "\n",
    "    try:\n",
    "        return response.json()['gauges']\n",
    "    except ValueError as exc:\n",
    "        raise Exception(f'Error parsing .json: {exc} -- {response.text}')\n",
    "    \n",
    "\n",
    "def convert_ListGauges_to_df(gauges : List[Dict[str, Any]]) -> pd.DataFrame:\n",
    "    \"\"\"\n",
    "    Convert the list of gauges to a pd.DataFrame\n",
    "\n",
    "    :param gauges: the list of gauges\n",
    "    :return: the DataFrame\n",
    "    \"\"\"\n",
    "    df = pd.DataFrame(gauges)\n",
    "    df['latitude'] = df['location'].apply(lambda x: x['latitude'])\n",
    "    df['longitude'] = df['location'].apply(lambda x: x['longitude'])\n",
    "    df.drop(columns = ['location'], inplace = True)\n",
    "    return df\n",
    "\n",
    "\n",
    "def get_ListGauges(country_code : str, path_to_key : str) -> pd.DataFrame:\n",
    "    \"\"\"\n",
    "    Get the list of gauges for a specific country by calling helper functions which:\n",
    "    - generate the URL;\n",
    "    - make the request;\n",
    "    - verify the response; and\n",
    "    - convert to a pd.DataFrame in the end.\n",
    "\n",
    "    :param country_code: the country code\n",
    "    :param path_to_key: path to the .txt file containing the API key\n",
    "    :return: DataFrame with the gauges\n",
    "    \"\"\"\n",
    "    return convert_ListGauges_to_df(\n",
    "        verify_ListGauges(\n",
    "            make_request_ListGauges(\n",
    "                country_code, path_to_key\n",
    "            )\n",
    "        )\n",
    "    )"
   ]
  },
  {
   "cell_type": "code",
   "execution_count": 141,
   "metadata": {},
   "outputs": [],
   "source": [
    "def print_gauges(gauges : List[Dict[str, Any]]) -> None:\n",
    "    \"\"\"\n",
    "    Print the list of gauges\n",
    "\n",
    "    :param gauges: the list of gauges\n",
    "    \"\"\"\n",
    "    for gauge in gauges:\n",
    "        print(f\"{gauge['siteName']} ({gauge['gaugeId']})\")"
   ]
  },
  {
   "cell_type": "code",
   "execution_count": 142,
   "metadata": {},
   "outputs": [],
   "source": [
    "df_gauges_ML = get_ListGauges('ML', path_API_key)"
   ]
  },
  {
   "cell_type": "code",
   "execution_count": 143,
   "metadata": {},
   "outputs": [
    {
     "name": "stdout",
     "output_type": "stream",
     "text": [
      "<class 'pandas.core.frame.DataFrame'>\n",
      "16\n",
      "Index(['siteName', 'source', 'river', 'gaugeId', 'qualityVerified', 'latitude',\n",
      "       'longitude'],\n",
      "      dtype='object')\n"
     ]
    }
   ],
   "source": [
    "print(type(df_gauges_ML))\n",
    "print(len(df_gauges_ML))\n",
    "print(df_gauges_ML.columns)\n"
   ]
  },
  {
   "cell_type": "code",
   "execution_count": 144,
   "metadata": {},
   "outputs": [
    {
     "name": "stdout",
     "output_type": "stream",
     "text": [
      "  siteName source river           gaugeId  qualityVerified   latitude  \\\n",
      "0           HYBAS        hybas_1120739110             True  11.977083   \n",
      "1           HYBAS        hybas_1120679780             True  13.493750   \n",
      "\n",
      "   longitude  \n",
      "0  -6.360417  \n",
      "1  -6.202083  \n"
     ]
    }
   ],
   "source": [
    "print(df_gauges_ML.head(2))"
   ]
  },
  {
   "cell_type": "code",
   "execution_count": 148,
   "metadata": {},
   "outputs": [],
   "source": [
    "def convert_df_to_gdf(df : pd.DataFrame) -> gpd.GeoDataFrame:\n",
    "    \"\"\"\n",
    "    Convert a DataFrame to a GeoDataFrame by taking the latitude and longitude columns\n",
    "\n",
    "    :param df: the DataFrame\n",
    "    :return: the GeoDataFrame\n",
    "    \"\"\"\n",
    "    return gpd.GeoDataFrame(\n",
    "        df,\n",
    "        geometry = gpd.points_from_xy(df['longitude'], df['latitude']),\n",
    "        crs = 'EPSG:4326' # Uniform projection to WGS84\n",
    "    )\n",
    "\n",
    "\n",
    "def map_gauge_coordinates_of_country(df : pd.DataFrame, country : str) -> None:\n",
    "    \"\"\"\n",
    "    Map gauge coordinates\n",
    "\n",
    "    :param df: the DataFrame with the gauges\n",
    "    :return: the GeoDataFrame\n",
    "    \"\"\"\n",
    "    gdf = convert_df_to_gdf(df)\n",
    "\n",
    "    # try:\n",
    "    #     shape = gpd.read_file(f\"../../data/shape_files/{country}_country_bounds.shp\")\n",
    "    # except Exception as exc:\n",
    "    #     raise Exception(f'Error reading shape file: {exc}')\n",
    "\n",
    "    fig, ax = plt.subplots()\n",
    "    # shape.plot(ax = ax, color = 'lightgrey')\n",
    "    gdf.plot(ax = ax, color = 'red', markersize = 10)\n",
    "    ax.set_xlabel('Longitude')\n",
    "    ax.set_ylabel('Latitude')\n",
    "    ax.set_title(f'Gauge locations for {country}')\n",
    "    ax.set_aspect('equal') # Ensure unwarped aspect ratio\n",
    "    plt.show()"
   ]
  },
  {
   "cell_type": "code",
   "execution_count": 149,
   "metadata": {},
   "outputs": [
    {
     "data": {
      "image/png": "[encoded data removed]",
      "text/plain": [
       "<Figure size 640x480 with 1 Axes>"
      ]
     },
     "metadata": {},
     "output_type": "display_data"
    }
   ],
   "source": [
    "map_gauge_coordinates_of_country(df_gauges_ML, 'Mali')"
   ]
  },
  {
   "cell_type": "code",
   "execution_count": 152,
   "metadata": {},
   "outputs": [
    {
     "data": {
      "image/png": "[encoded data removed]",
      "text/plain": [
       "<Figure size 640x480 with 1 Axes>"
      ]
     },
     "metadata": {},
     "output_type": "display_data"
    }
   ],
   "source": [
    "map_gauge_coordinates_of_country(get_ListGauges('IN', path_API_key), 'India')"
   ]
  }
 ],
 "metadata": {
  "kernelspec": {
   "display_name": "Python 3",
   "language": "python",
   "name": "python3"
  },
  "language_info": {
   "codemirror_mode": {
    "name": "ipython",
    "version": 3
   },
   "file_extension": ".py",
   "mimetype": "text/x-python",
   "name": "python",
   "nbconvert_exporter": "python",
   "pygments_lexer": "ipython3",
   "version": "3.9.13"
  }
 },
 "nbformat": 4,
 "nbformat_minor": 2
}
